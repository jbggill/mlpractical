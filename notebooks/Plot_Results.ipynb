{
 "cells": [
  {
   "cell_type": "code",
   "execution_count": 1,
   "metadata": {},
   "outputs": [],
   "source": [
    "import os\n",
    "import sys\n",
    "import matplotlib\n",
    "import matplotlib.pyplot as plt\n",
    "import numpy as np\n",
    "%matplotlib inline\n",
    "plt.style.use('ggplot')\n",
    "experiment_dir = 'path/to/mlpractical_directory'"
   ]
  },
  {
   "cell_type": "code",
   "execution_count": 3,
   "metadata": {},
   "outputs": [],
   "source": [
    "def collect_experiment_dicts(target_dir, test_flag=False):\n",
    "    experiment_dicts = dict()\n",
    "    for subdir, dir, files in os.walk(target_dir):\n",
    "        for file in files:\n",
    "            filepath = None\n",
    "            if not test_flag:\n",
    "                if file == 'summary.csv':\n",
    "                    filepath = os.path.join(subdir, file)\n",
    "            \n",
    "            elif test_flag:\n",
    "                if file == 'test_summary.csv':\n",
    "                    filepath = os.path.join(subdir, file)\n",
    "            \n",
    "            if filepath is not None:\n",
    "                \n",
    "                with open(filepath, 'r') as read_file:\n",
    "                    lines = read_file.readlines()\n",
    "                    \n",
    "                current_experiment_dict = {key: [] for key in lines[0].replace('\\n', '').split(',')}\n",
    "                idx_to_key = {idx: key for idx, key in enumerate(lines[0].replace('\\n', '').split(','))}\n",
    "                \n",
    "                for line in lines[1:]:\n",
    "                    for idx, value in enumerate(line.replace('\\n', '').split(',')):\n",
    "                        current_experiment_dict[idx_to_key[idx]].append(float(value))\n",
    "                \n",
    "                experiment_dicts[subdir.split('/')[-2]] = current_experiment_dict\n",
    "                \n",
    "    return experiment_dicts\n",
    "                \n",
    "            "
   ]
  },
  {
   "cell_type": "code",
   "execution_count": 4,
   "metadata": {},
   "outputs": [],
   "source": [
    "result_dict = collect_experiment_dicts(target_dir=experiment_dir)\n",
    "for key, value in result_dict.items():\n",
    "    print(key, list(value.keys()))"
   ]
  },
  {
   "cell_type": "code",
   "execution_count": 7,
   "metadata": {},
   "outputs": [],
   "source": [
    "import matplotlib.pyplot as plt\n",
    "%matplotlib inline\n",
    "plt.style.use('ggplot')\n",
    "\n",
    "def plot_result_graphs(plot_name, stats, keys_to_plot, notebook=True):\n",
    "    \n",
    "    fig_1 = plt.figure(figsize=(8, 4))\n",
    "    ax_1 = fig_1.add_subplot(111)\n",
    "    for name in keys_to_plot:\n",
    "        for k in ['train_loss', 'val_loss']:\n",
    "            item = stats[name][k]\n",
    "            ax_1.plot(np.arange(0, len(item)), \n",
    "                      item, label='{}_{}'.format(name, k))\n",
    "            \n",
    "    ax_1.legend(loc=0)\n",
    "    ax_1.set_ylabel('Loss')\n",
    "    ax_1.set_xlabel('Epoch number')\n",
    "\n",
    "    # Plot the change in the validation and training set accuracy over training.\n",
    "    fig_2 = plt.figure(figsize=(8, 4))\n",
    "    ax_2 = fig_2.add_subplot(111)\n",
    "    for name in keys_to_plot:\n",
    "        for k in ['train_acc', 'val_acc']:\n",
    "            item = stats[name][k]\n",
    "            ax_2.plot(np.arange(0, len(item)), \n",
    "                      item, label='{}_{}'.format(name, k))\n",
    "            \n",
    "    ax_2.legend(loc=0)\n",
    "    ax_2.set_ylabel('Accuracy')\n",
    "    ax_2.set_xlabel('Epoch number')\n",
    "    \n",
    "    fig_1.savefig('../data/{}_loss_performance.pdf'.format(plot_name), dpi=None, facecolor='w', edgecolor='w',\n",
    "        orientation='portrait', papertype=None, format='pdf',\n",
    "        transparent=False, bbox_inches=None, pad_inches=0.1,\n",
    "        frameon=None, metadata=None)\n",
    "    \n",
    "    fig_2.savefig('../data/{}_accuracy_performance.pdf'.format(plot_name), dpi=None, facecolor='w', edgecolor='w',\n",
    "        orientation='portrait', papertype=None, format='pdf',\n",
    "        transparent=False, bbox_inches=None, pad_inches=0.1,\n",
    "        frameon=None, metadata=None)\n",
    "    \n",
    "    "
   ]
  },
  {
   "cell_type": "code",
   "execution_count": 8,
   "metadata": {
    "scrolled": true
   },
   "outputs": [
    {
     "ename": "KeyError",
     "evalue": "'VGG_08'",
     "output_type": "error",
     "traceback": [
      "\u001b[0;31m---------------------------------------------------------------------------\u001b[0m",
      "\u001b[0;31mKeyError\u001b[0m                                  Traceback (most recent call last)",
      "\u001b[1;32m/Users/jessegill/mlpractical/notebooks/Plot_Results.ipynb Cell 5\u001b[0m line \u001b[0;36m1\n\u001b[0;32m----> <a href='vscode-notebook-cell:/Users/jessegill/mlpractical/notebooks/Plot_Results.ipynb#W4sZmlsZQ%3D%3D?line=0'>1</a>\u001b[0m plot_result_graphs(\u001b[39m'\u001b[39;49m\u001b[39mproblem_model\u001b[39;49m\u001b[39m'\u001b[39;49m, result_dict, keys_to_plot\u001b[39m=\u001b[39;49m[ \u001b[39m'\u001b[39;49m\u001b[39mVGG_08\u001b[39;49m\u001b[39m'\u001b[39;49m])\n",
      "\u001b[1;32m/Users/jessegill/mlpractical/notebooks/Plot_Results.ipynb Cell 5\u001b[0m line \u001b[0;36m1\n\u001b[1;32m      <a href='vscode-notebook-cell:/Users/jessegill/mlpractical/notebooks/Plot_Results.ipynb#W4sZmlsZQ%3D%3D?line=8'>9</a>\u001b[0m \u001b[39mfor\u001b[39;00m name \u001b[39min\u001b[39;00m keys_to_plot:\n\u001b[1;32m     <a href='vscode-notebook-cell:/Users/jessegill/mlpractical/notebooks/Plot_Results.ipynb#W4sZmlsZQ%3D%3D?line=9'>10</a>\u001b[0m     \u001b[39mfor\u001b[39;00m k \u001b[39min\u001b[39;00m [\u001b[39m'\u001b[39m\u001b[39mtrain_loss\u001b[39m\u001b[39m'\u001b[39m, \u001b[39m'\u001b[39m\u001b[39mval_loss\u001b[39m\u001b[39m'\u001b[39m]:\n\u001b[0;32m---> <a href='vscode-notebook-cell:/Users/jessegill/mlpractical/notebooks/Plot_Results.ipynb#W4sZmlsZQ%3D%3D?line=10'>11</a>\u001b[0m         item \u001b[39m=\u001b[39m stats[name][k]\n\u001b[1;32m     <a href='vscode-notebook-cell:/Users/jessegill/mlpractical/notebooks/Plot_Results.ipynb#W4sZmlsZQ%3D%3D?line=11'>12</a>\u001b[0m         ax_1\u001b[39m.\u001b[39mplot(np\u001b[39m.\u001b[39marange(\u001b[39m0\u001b[39m, \u001b[39mlen\u001b[39m(item)), \n\u001b[1;32m     <a href='vscode-notebook-cell:/Users/jessegill/mlpractical/notebooks/Plot_Results.ipynb#W4sZmlsZQ%3D%3D?line=12'>13</a>\u001b[0m                   item, label\u001b[39m=\u001b[39m\u001b[39m'\u001b[39m\u001b[39m{}\u001b[39;00m\u001b[39m_\u001b[39m\u001b[39m{}\u001b[39;00m\u001b[39m'\u001b[39m\u001b[39m.\u001b[39mformat(name, k))\n\u001b[1;32m     <a href='vscode-notebook-cell:/Users/jessegill/mlpractical/notebooks/Plot_Results.ipynb#W4sZmlsZQ%3D%3D?line=14'>15</a>\u001b[0m ax_1\u001b[39m.\u001b[39mlegend(loc\u001b[39m=\u001b[39m\u001b[39m0\u001b[39m)\n",
      "\u001b[0;31mKeyError\u001b[0m: 'VGG_08'"
     ]
    },
    {
     "data": {
      "image/png": "[encoded data removed]",
      "text/plain": [
       "<Figure size 800x400 with 1 Axes>"
      ]
     },
     "metadata": {},
     "output_type": "display_data"
    }
   ],
   "source": [
    "plot_result_graphs('problem_model', result_dict, keys_to_plot=[ 'VGG_08'])"
   ]
  },
  {
   "cell_type": "code",
   "execution_count": null,
   "metadata": {},
   "outputs": [],
   "source": []
  }
 ],
 "metadata": {
  "kernelspec": {
   "display_name": "Python 3",
   "language": "python",
   "name": "python3"
  },
  "language_info": {
   "codemirror_mode": {
    "name": "ipython",
    "version": 3
   },
   "file_extension": ".py",
   "mimetype": "text/x-python",
   "name": "python",
   "nbconvert_exporter": "python",
   "pygments_lexer": "ipython3",
   "version": "3.11.4"
  }
 },
 "nbformat": 4,
 "nbformat_minor": 2
}
